{
 "cells": [
  {
   "cell_type": "code",
   "execution_count": 5,
   "id": "c5e1536e",
   "metadata": {},
   "outputs": [
    {
     "name": "stdout",
     "output_type": "stream",
     "text": [
      "Original pixel value at (150, 150): 54\n",
      "Denoised pixel value at (150, 150): 65\n"
     ]
    }
   ],
   "source": [
    "import cv2\n",
    "import numpy as np\n",
    "\n",
    "# # Load the original image\n",
    "original_image = cv2.imread(r\"C:\\\\Users\\\\zaynj\\\\OneDrive\\\\Documents\\\\boston\\\\Boston\\\\Boston\\\\i9.tif\", 0)  # Load in grayscale\n",
    "\n",
    "# # Load the denoised image\n",
    "denoised_image = cv2.GaussianBlur(original_image, (7, 7), 3)\n",
    "\n",
    "# Convert the images to NumPy arrays\n",
    "original_pixels = np.array(original_image)\n",
    "denoised_pixels = np.array(denoised_image)\n",
    "\n",
    "# Now you can access the pixel values as NumPy arrays\n",
    "# For example, to access the pixel value at row 1, column 1:\n",
    "row, col = 150, 150\n",
    "original_pixel_value = original_pixels[row, col]\n",
    "denoised_pixel_value = denoised_pixels[row, col]\n",
    "\n",
    "print(f'Original pixel value at ({row}, {col}): {original_pixel_value}')\n",
    "print(f'Denoised pixel value at ({row}, {col}): {denoised_pixel_value}')"
   ]
  },
  {
   "cell_type": "code",
   "execution_count": null,
   "id": "5fbab69a",
   "metadata": {},
   "outputs": [],
   "source": []
  }
 ],
 "metadata": {
  "kernelspec": {
   "display_name": "Python 3 (ipykernel)",
   "language": "python",
   "name": "python3"
  },
  "language_info": {
   "codemirror_mode": {
    "name": "ipython",
    "version": 3
   },
   "file_extension": ".py",
   "mimetype": "text/x-python",
   "name": "python",
   "nbconvert_exporter": "python",
   "pygments_lexer": "ipython3",
   "version": "3.11.5"
  }
 },
 "nbformat": 4,
 "nbformat_minor": 5
}
